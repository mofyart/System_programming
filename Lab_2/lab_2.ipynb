{
 "cells": [
  {
   "cell_type": "markdown",
   "id": "679c2ccd",
   "metadata": {},
   "source": [
    "![1.png](files/1.png)"
   ]
  },
  {
   "cell_type": "code",
   "execution_count": null,
   "id": "6afde020",
   "metadata": {
    "vscode": {
     "languageId": "plaintext"
    }
   },
   "outputs": [],
   "source": [
    "format ELF\n",
    "public _start\n",
    "public exit\n",
    "\n",
    "section '.bss' writeable\n",
    "my db 0xA, \"dCvNLCHIwRBfHrlibTfnOuAfqXhQskBnlVMtoFF\"\n",
    "newline db 10, 0\n",
    "\n",
    "section '.text' executable\n",
    "_start:\n",
    "    mov ecx, my\n",
    "    add ecx, 39\n",
    "    .iter:\n",
    "        mov eax, 4\n",
    "        mov ebx, 1\n",
    "\n",
    "        mov edx, 1\n",
    "        int 0x80\n",
    "\n",
    "        dec ecx\n",
    "        cmp ecx, my\n",
    "        jne .iter\n",
    "\n",
    "    mov eax, 4\n",
    "    mov ebx, 1\n",
    "\n",
    "    mov ecx, newline\n",
    "    mov edx, 1\n",
    "    int 0x80\n",
    "\n",
    "    call exit\n",
    "\n",
    "exit:\n",
    "  mov eax, 1\n",
    "  xor ebx, ebx\n",
    "  int 0x80\n"
   ]
  },
  {
   "cell_type": "markdown",
   "id": "27b1bf88",
   "metadata": {},
   "source": [
    "![2.png](files/2.png)"
   ]
  },
  {
   "cell_type": "code",
   "execution_count": null,
   "id": "ec5e4fd7",
   "metadata": {
    "vscode": {
     "languageId": "plaintext"
    }
   },
   "outputs": [],
   "source": [
    "format ELF\n",
    "public _start\n",
    "public exit\n",
    "\n",
    "section '.bss' writeable\n",
    "sym db '+'\n",
    "M dd 4\n",
    "K dd 7\n",
    "newline db 10\n",
    "\n",
    "section '.text' executable\n",
    "_start:\n",
    "    mov ecx, [K]\n",
    "\n",
    "    .iter1:\n",
    "        push ecx\n",
    "        mov edx, [M]\n",
    "\n",
    "        .iter2:\n",
    "            push edx\n",
    "\n",
    "            mov ecx, sym\n",
    "\n",
    "            mov eax, 4\n",
    "            mov ebx, 1\n",
    "            mov edx, 1\n",
    "            int 0x80\n",
    "\n",
    "            pop edx\n",
    "            dec edx\n",
    "            cmp edx, 0\n",
    "            jne .iter2\n",
    "\n",
    "        mov eax, 4\n",
    "        mov ebx, 1\n",
    "\n",
    "        mov ecx, newline\n",
    "        mov edx, 1\n",
    "        int 0x80\n",
    "\n",
    "        pop ecx\n",
    "        dec ecx\n",
    "        cmp ecx, 0\n",
    "        jne .iter1\n",
    "\n",
    "\n",
    "    call exit\n",
    "\n",
    "exit:\n",
    "  mov eax, 1\n",
    "  xor ebx, ebx\n",
    "  int 0x80\n"
   ]
  },
  {
   "cell_type": "markdown",
   "id": "cf7614f7",
   "metadata": {},
   "source": [
    "![3.png](files/3.png)"
   ]
  },
  {
   "cell_type": "code",
   "execution_count": null,
   "id": "f7f60b0e",
   "metadata": {
    "vscode": {
     "languageId": "plaintext"
    }
   },
   "outputs": [],
   "source": [
    "format ELF\n",
    "public _start\n",
    "public exit\n",
    "\n",
    "section '.bss' writable\n",
    "sym db '+'\n",
    "M dd 4\n",
    "K dd 7\n",
    "newline db 10\n",
    "\n",
    "section '.text' executable\n",
    "_start:\n",
    "    mov ecx, 1\n",
    "\n",
    "    .iter1:\n",
    "        push ecx\n",
    "        mov edx, ecx\n",
    "\n",
    "        .iter2:\n",
    "            push edx\n",
    "\n",
    "            mov ecx, sym\n",
    "\n",
    "            mov eax, 4\n",
    "            mov ebx, 1\n",
    "            mov edx, 1\n",
    "            int 0x80\n",
    "\n",
    "            pop edx\n",
    "            dec edx\n",
    "            cmp edx, 0\n",
    "            jne .iter2\n",
    "\n",
    "        mov eax, 4\n",
    "        mov ebx, 1\n",
    "\n",
    "        mov ecx, newline\n",
    "        mov edx, 1\n",
    "        int 0x80\n",
    "\n",
    "        pop ecx\n",
    "        inc ecx\n",
    "        cmp ecx, [K]\n",
    "        jne .iter1\n",
    "\n",
    "\n",
    "    call exit\n",
    "\n",
    "exit:\n",
    "  mov eax, 1\n",
    "  xor ebx, ebx\n",
    "  int 0x80\n"
   ]
  },
  {
   "cell_type": "markdown",
   "id": "2e1b3da4",
   "metadata": {},
   "source": [
    "![4.png](files/4.png)"
   ]
  },
  {
   "cell_type": "code",
   "execution_count": null,
   "id": "5173223e",
   "metadata": {
    "vscode": {
     "languageId": "plaintext"
    }
   },
   "outputs": [],
   "source": [
    "format ELF\n",
    "public _start\n",
    "\n",
    "section '.bss'  writeable\n",
    "    N       dd 568093600\n",
    "    res     dd 0\n",
    "    newline db 10\n",
    "    place   db 0\n",
    "\n",
    "section '.text' executable\n",
    "_start:\n",
    "    mov eax, [N]\n",
    "    mov ebx, 10\n",
    "    mov ecx, 0\n",
    "\n",
    ".iter1:\n",
    "    xor edx, edx\n",
    "    div ebx\n",
    "    add ecx, edx\n",
    "    test eax, eax\n",
    "    jnz .iter1\n",
    "\n",
    "    mov [res], ecx\n",
    "    call print\n",
    "\n",
    "    mov eax, 4\n",
    "    mov ebx, 1\n",
    "    mov ecx, newline\n",
    "    mov edx, 1\n",
    "    int 0x80\n",
    "\n",
    "    call exit\n",
    "\n",
    "print:\n",
    "    mov eax, [res]\n",
    "    xor ebx, ebx\n",
    "    mov ecx, 10\n",
    "\n",
    ".loop:\n",
    "    xor edx, edx\n",
    "    div ecx\n",
    "    push edx\n",
    "    inc ebx\n",
    "    test eax, eax\n",
    "    jnz .loop\n",
    "\n",
    ".print_loop:\n",
    "    pop eax\n",
    "    add eax, '0'\n",
    "    mov [place], al\n",
    "\n",
    "    push ebx\n",
    "    mov eax, 4\n",
    "    mov ebx, 1\n",
    "    mov ecx, place\n",
    "    mov edx, 1\n",
    "    int 0x80\n",
    "    pop ebx\n",
    "\n",
    "    dec ebx\n",
    "    jnz .print_loop\n",
    "    ret\n",
    "\n",
    "exit:\n",
    "    mov eax, 1\n",
    "    xor ebx, ebx\n",
    "    int 0x80\n"
   ]
  },
  {
   "cell_type": "markdown",
   "id": "97d95d4e",
   "metadata": {},
   "source": [
    "![5.png](files/5.png)"
   ]
  },
  {
   "cell_type": "code",
   "execution_count": null,
   "id": "4ba421a7",
   "metadata": {
    "vscode": {
     "languageId": "plaintext"
    }
   },
   "outputs": [],
   "source": [
    "#include <stdio.h>\n",
    "\n",
    "int main() {\n",
    "    long long n = 568093600;\n",
    "\n",
    "    char sum = 0;\n",
    "\n",
    "    for (; n > 0; n /= 10) {\n",
    "        sum += n % 10;\n",
    "    }\n",
    "\n",
    "    printf(\"%d\\n\", sum);\n",
    "}\n"
   ]
  },
  {
   "cell_type": "markdown",
   "id": "afd74096",
   "metadata": {},
   "source": [
    "![6.png](files/6.png)"
   ]
  }
 ],
 "metadata": {
  "language_info": {
   "name": "python"
  }
 },
 "nbformat": 4,
 "nbformat_minor": 5
}
